{
  "nbformat": 4,
  "nbformat_minor": 0,
  "metadata": {
    "colab": {
      "name": "0first.ipynb",
      "provenance": [],
      "collapsed_sections": [],
      "authorship_tag": "ABX9TyOv36/UPIPsHQaK38nACfRZ",
      "include_colab_link": true
    },
    "kernelspec": {
      "name": "python3",
      "display_name": "Python 3"
    }
  },
  "cells": [
    {
      "cell_type": "markdown",
      "metadata": {
        "id": "view-in-github",
        "colab_type": "text"
      },
      "source": [
        "<a href=\"https://colab.research.google.com/github/sabil62/scaling-computing-machine/blob/main/0first.ipynb\" target=\"_parent\"><img src=\"https://colab.research.google.com/assets/colab-badge.svg\" alt=\"Open In Colab\"/></a>"
      ]
    },
    {
      "cell_type": "code",
      "metadata": {
        "id": "l2T6UGt3o5GK"
      },
      "source": [
        "import numpy as np\r\n",
        "import matplotlib.pyplot as plt\r\n",
        "import pandas as pd\r\n",
        "from sklearn.linear_model import LinearRegression\r\n",
        "from sklearn.metrics import mean_squared_error\r\n",
        "import math"
      ],
      "execution_count": 34,
      "outputs": []
    },
    {
      "cell_type": "code",
      "metadata": {
        "colab": {
          "base_uri": "https://localhost:8080/"
        },
        "id": "Ojesf7pEpErK",
        "outputId": "b13a9188-d593-478d-dc85-6ce5da242163"
      },
      "source": [
        "from google.colab import drive\n",
        "drive.mount('/content/drive')"
      ],
      "execution_count": 3,
      "outputs": [
        {
          "output_type": "stream",
          "text": [
            "Drive already mounted at /content/drive; to attempt to forcibly remount, call drive.mount(\"/content/drive\", force_remount=True).\n"
          ],
          "name": "stdout"
        }
      ]
    },
    {
      "cell_type": "code",
      "metadata": {
        "colab": {
          "base_uri": "https://localhost:8080/",
          "height": 225
        },
        "id": "ztkbOO9aqHWR",
        "outputId": "2cd2f896-6f33-478b-dcaa-61b2ca60c974"
      },
      "source": [
        "data=pd.read_csv(\"/content/drive/MyDrive/data sheet/headbrain.csv\")\r\n",
        "data.head(6)"
      ],
      "execution_count": 9,
      "outputs": [
        {
          "output_type": "execute_result",
          "data": {
            "text/html": [
              "<div>\n",
              "<style scoped>\n",
              "    .dataframe tbody tr th:only-of-type {\n",
              "        vertical-align: middle;\n",
              "    }\n",
              "\n",
              "    .dataframe tbody tr th {\n",
              "        vertical-align: top;\n",
              "    }\n",
              "\n",
              "    .dataframe thead th {\n",
              "        text-align: right;\n",
              "    }\n",
              "</style>\n",
              "<table border=\"1\" class=\"dataframe\">\n",
              "  <thead>\n",
              "    <tr style=\"text-align: right;\">\n",
              "      <th></th>\n",
              "      <th>Gender</th>\n",
              "      <th>Age Range</th>\n",
              "      <th>Head Size(cm^3)</th>\n",
              "      <th>Brain Weight(grams)</th>\n",
              "    </tr>\n",
              "  </thead>\n",
              "  <tbody>\n",
              "    <tr>\n",
              "      <th>0</th>\n",
              "      <td>1</td>\n",
              "      <td>1</td>\n",
              "      <td>4512</td>\n",
              "      <td>1530</td>\n",
              "    </tr>\n",
              "    <tr>\n",
              "      <th>1</th>\n",
              "      <td>1</td>\n",
              "      <td>1</td>\n",
              "      <td>3738</td>\n",
              "      <td>1297</td>\n",
              "    </tr>\n",
              "    <tr>\n",
              "      <th>2</th>\n",
              "      <td>1</td>\n",
              "      <td>1</td>\n",
              "      <td>4261</td>\n",
              "      <td>1335</td>\n",
              "    </tr>\n",
              "    <tr>\n",
              "      <th>3</th>\n",
              "      <td>1</td>\n",
              "      <td>1</td>\n",
              "      <td>3777</td>\n",
              "      <td>1282</td>\n",
              "    </tr>\n",
              "    <tr>\n",
              "      <th>4</th>\n",
              "      <td>1</td>\n",
              "      <td>1</td>\n",
              "      <td>4177</td>\n",
              "      <td>1590</td>\n",
              "    </tr>\n",
              "    <tr>\n",
              "      <th>5</th>\n",
              "      <td>1</td>\n",
              "      <td>1</td>\n",
              "      <td>3585</td>\n",
              "      <td>1300</td>\n",
              "    </tr>\n",
              "  </tbody>\n",
              "</table>\n",
              "</div>"
            ],
            "text/plain": [
              "   Gender  Age Range  Head Size(cm^3)  Brain Weight(grams)\n",
              "0       1          1             4512                 1530\n",
              "1       1          1             3738                 1297\n",
              "2       1          1             4261                 1335\n",
              "3       1          1             3777                 1282\n",
              "4       1          1             4177                 1590\n",
              "5       1          1             3585                 1300"
            ]
          },
          "metadata": {
            "tags": []
          },
          "execution_count": 9
        }
      ]
    },
    {
      "cell_type": "code",
      "metadata": {
        "id": "P9I_pvDGwk9n"
      },
      "source": [
        "x=data[\"Head Size(cm^3)\"]\r\n",
        "y=data[\"Brain Weight(grams)\"]"
      ],
      "execution_count": 38,
      "outputs": []
    },
    {
      "cell_type": "code",
      "metadata": {
        "colab": {
          "base_uri": "https://localhost:8080/"
        },
        "id": "0s0cVWMzw0js",
        "outputId": "e01c44c5-018f-4c70-9a41-5dae6341e5f4"
      },
      "source": [
        "print(x)\r\n",
        "print(y)"
      ],
      "execution_count": 15,
      "outputs": [
        {
          "output_type": "stream",
          "text": [
            "0      4512\n",
            "1      3738\n",
            "2      4261\n",
            "3      3777\n",
            "4      4177\n",
            "       ... \n",
            "232    3214\n",
            "233    3394\n",
            "234    3233\n",
            "235    3352\n",
            "236    3391\n",
            "Name: Head Size(cm^3), Length: 237, dtype: int64\n",
            "0      1530\n",
            "1      1297\n",
            "2      1335\n",
            "3      1282\n",
            "4      1590\n",
            "       ... \n",
            "232    1110\n",
            "233    1215\n",
            "234    1104\n",
            "235    1170\n",
            "236    1120\n",
            "Name: Brain Weight(grams), Length: 237, dtype: int64\n"
          ],
          "name": "stdout"
        }
      ]
    },
    {
      "cell_type": "code",
      "metadata": {
        "colab": {
          "base_uri": "https://localhost:8080/"
        },
        "id": "BXGOiRS8xMFp",
        "outputId": "828d1c5f-099a-4b16-e01d-d53a82c14799"
      },
      "source": [
        "x.head()\r\n"
      ],
      "execution_count": 19,
      "outputs": [
        {
          "output_type": "execute_result",
          "data": {
            "text/plain": [
              "0    4512\n",
              "1    3738\n",
              "2    4261\n",
              "3    3777\n",
              "4    4177\n",
              "Name: Head Size(cm^3), dtype: int64"
            ]
          },
          "metadata": {
            "tags": []
          },
          "execution_count": 19
        }
      ]
    },
    {
      "cell_type": "markdown",
      "metadata": {
        "id": "ByZ29Y_JxXL1"
      },
      "source": [
        "**Visualizing Data**"
      ]
    },
    {
      "cell_type": "code",
      "metadata": {
        "colab": {
          "base_uri": "https://localhost:8080/",
          "height": 282
        },
        "id": "Rq-0zwGNxRYt",
        "outputId": "9de4092a-fdfa-416d-8d6f-2d5221e7d382"
      },
      "source": [
        "plt.scatter(x,y)"
      ],
      "execution_count": 21,
      "outputs": [
        {
          "output_type": "execute_result",
          "data": {
            "text/plain": [
              "<matplotlib.collections.PathCollection at 0x7ff92fca8f60>"
            ]
          },
          "metadata": {
            "tags": []
          },
          "execution_count": 21
        },
        {
          "output_type": "display_data",
          "data": {
            "image/png": "[encoded data removed]",
            "text/plain": [
              "<Figure size 432x288 with 1 Axes>"
            ]
          },
          "metadata": {
            "tags": [],
            "needs_background": "light"
          }
        }
      ]
    },
    {
      "cell_type": "code",
      "metadata": {
        "colab": {
          "base_uri": "https://localhost:8080/"
        },
        "id": "2iepfxQAxs4_",
        "outputId": "7d8cf00d-3196-4ac7-8444-02cf22a4103c"
      },
      "source": [
        "type(x)"
      ],
      "execution_count": 29,
      "outputs": [
        {
          "output_type": "execute_result",
          "data": {
            "text/plain": [
              "numpy.ndarray"
            ]
          },
          "metadata": {
            "tags": []
          },
          "execution_count": 29
        }
      ]
    },
    {
      "cell_type": "code",
      "metadata": {
        "colab": {
          "base_uri": "https://localhost:8080/"
        },
        "id": "Qgh-2M8Dx_md",
        "outputId": "5d76558c-9258-4300-a008-e39577493af3"
      },
      "source": [
        "x.shape"
      ],
      "execution_count": 39,
      "outputs": [
        {
          "output_type": "execute_result",
          "data": {
            "text/plain": [
              "(237,)"
            ]
          },
          "metadata": {
            "tags": []
          },
          "execution_count": 39
        }
      ]
    },
    {
      "cell_type": "code",
      "metadata": {
        "colab": {
          "base_uri": "https://localhost:8080/"
        },
        "id": "7j1nea6QxxxH",
        "outputId": "ffa53aa1-0bb9-4bb1-d60e-970cdc6fa243"
      },
      "source": [
        "X = np.array(x).reshape(-1,1)\r\n",
        "y = np.array(y).reshape(-1,1)\r\n",
        "y.shape\r\n"
      ],
      "execution_count": 36,
      "outputs": [
        {
          "output_type": "execute_result",
          "data": {
            "text/plain": [
              "(237, 1)"
            ]
          },
          "metadata": {
            "tags": []
          },
          "execution_count": 36
        }
      ]
    },
    {
      "cell_type": "code",
      "metadata": {
        "colab": {
          "base_uri": "https://localhost:8080/"
        },
        "id": "XJKbj5MIzPcO",
        "outputId": "d22f09bc-f7cb-46f5-95f4-f3a480b88652"
      },
      "source": [
        "model = LinearRegression()\r\n",
        "model.fit(X,y)"
      ],
      "execution_count": 40,
      "outputs": [
        {
          "output_type": "execute_result",
          "data": {
            "text/plain": [
              "LinearRegression(copy_X=True, fit_intercept=True, n_jobs=None, normalize=False)"
            ]
          },
          "metadata": {
            "tags": []
          },
          "execution_count": 40
        }
      ]
    },
    {
      "cell_type": "code",
      "metadata": {
        "colab": {
          "base_uri": "https://localhost:8080/"
        },
        "id": "CeoJu1oZ1rZT",
        "outputId": "55a13641-2aad-4f72-8a7a-bf9c6188a4ac"
      },
      "source": [
        "\r\n",
        "print(model.score(X,y))"
      ],
      "execution_count": 42,
      "outputs": [
        {
          "output_type": "stream",
          "text": [
            "0.639311719957\n"
          ],
          "name": "stdout"
        }
      ]
    },
    {
      "cell_type": "code",
      "metadata": {
        "colab": {
          "base_uri": "https://localhost:8080/",
          "height": 295
        },
        "id": "nGVAuWnP1vXl",
        "outputId": "2d0fc354-8127-4374-dcb3-4e95a7acde7a"
      },
      "source": [
        "plt.scatter(X,y,color = 'orange')\r\n",
        "plt.plot(X,model.predict(X),color = 'black')\r\n",
        "plt.title(\"Simple Linear Regression\")\r\n",
        "plt.xlabel(\"Brain Size\")\r\n",
        "plt.ylabel(\"Brain Weight\")\r\n",
        "plt.show()"
      ],
      "execution_count": 45,
      "outputs": [
        {
          "output_type": "display_data",
          "data": {
            "image/png": "[encoded data removed]",
            "text/plain": [
              "<Figure size 432x288 with 1 Axes>"
            ]
          },
          "metadata": {
            "tags": [],
            "needs_background": "light"
          }
        }
      ]
    },
    {
      "cell_type": "code",
      "metadata": {
        "colab": {
          "base_uri": "https://localhost:8080/"
        },
        "id": "6J-7TkUW13xI",
        "outputId": "e3699d5c-d235-459b-d79e-7d23bd1d6cd9"
      },
      "source": [
        "print(model.predict([[2000]]))"
      ],
      "execution_count": 47,
      "outputs": [
        {
          "output_type": "stream",
          "text": [
            "[852.43210003]\n"
          ],
          "name": "stdout"
        }
      ]
    },
    {
      "cell_type": "markdown",
      "metadata": {
        "id": "rhuns01Z18DD"
      },
      "source": [
        "# **New set**"
      ]
    },
    {
      "cell_type": "code",
      "metadata": {
        "id": "9fjQQzPR17VW"
      },
      "source": [
        "from sklearn.preprocessing import LabelEncoder,OneHotEncoder"
      ],
      "execution_count": 50,
      "outputs": []
    },
    {
      "cell_type": "code",
      "metadata": {
        "colab": {
          "base_uri": "https://localhost:8080/",
          "height": 195
        },
        "id": "bPLAaxL52EjM",
        "outputId": "b7f445c5-6141-4640-f6e9-be0e06f39db0"
      },
      "source": [
        "datamul = pd.read_csv('/content/drive/MyDrive/data sheet/50_Startups.csv')\r\n",
        "datamul.tail()"
      ],
      "execution_count": 58,
      "outputs": [
        {
          "output_type": "execute_result",
          "data": {
            "text/html": [
              "<div>\n",
              "<style scoped>\n",
              "    .dataframe tbody tr th:only-of-type {\n",
              "        vertical-align: middle;\n",
              "    }\n",
              "\n",
              "    .dataframe tbody tr th {\n",
              "        vertical-align: top;\n",
              "    }\n",
              "\n",
              "    .dataframe thead th {\n",
              "        text-align: right;\n",
              "    }\n",
              "</style>\n",
              "<table border=\"1\" class=\"dataframe\">\n",
              "  <thead>\n",
              "    <tr style=\"text-align: right;\">\n",
              "      <th></th>\n",
              "      <th>R&amp;D Spend</th>\n",
              "      <th>Administration</th>\n",
              "      <th>Marketing Spend</th>\n",
              "      <th>State</th>\n",
              "      <th>Profit</th>\n",
              "    </tr>\n",
              "  </thead>\n",
              "  <tbody>\n",
              "    <tr>\n",
              "      <th>45</th>\n",
              "      <td>1000.23</td>\n",
              "      <td>124153.04</td>\n",
              "      <td>1903.93</td>\n",
              "      <td>New York</td>\n",
              "      <td>64926.08</td>\n",
              "    </tr>\n",
              "    <tr>\n",
              "      <th>46</th>\n",
              "      <td>1315.46</td>\n",
              "      <td>115816.21</td>\n",
              "      <td>297114.46</td>\n",
              "      <td>Florida</td>\n",
              "      <td>49490.75</td>\n",
              "    </tr>\n",
              "    <tr>\n",
              "      <th>47</th>\n",
              "      <td>0.00</td>\n",
              "      <td>135426.92</td>\n",
              "      <td>0.00</td>\n",
              "      <td>California</td>\n",
              "      <td>42559.73</td>\n",
              "    </tr>\n",
              "    <tr>\n",
              "      <th>48</th>\n",
              "      <td>542.05</td>\n",
              "      <td>51743.15</td>\n",
              "      <td>0.00</td>\n",
              "      <td>New York</td>\n",
              "      <td>35673.41</td>\n",
              "    </tr>\n",
              "    <tr>\n",
              "      <th>49</th>\n",
              "      <td>0.00</td>\n",
              "      <td>116983.80</td>\n",
              "      <td>45173.06</td>\n",
              "      <td>California</td>\n",
              "      <td>14681.40</td>\n",
              "    </tr>\n",
              "  </tbody>\n",
              "</table>\n",
              "</div>"
            ],
            "text/plain": [
              "    R&D Spend  Administration  Marketing Spend       State    Profit\n",
              "45    1000.23       124153.04          1903.93    New York  64926.08\n",
              "46    1315.46       115816.21        297114.46     Florida  49490.75\n",
              "47       0.00       135426.92             0.00  California  42559.73\n",
              "48     542.05        51743.15             0.00    New York  35673.41\n",
              "49       0.00       116983.80         45173.06  California  14681.40"
            ]
          },
          "metadata": {
            "tags": []
          },
          "execution_count": 58
        }
      ]
    },
    {
      "cell_type": "code",
      "metadata": {
        "colab": {
          "base_uri": "https://localhost:8080/"
        },
        "id": "2c77Q-VR2HNH",
        "outputId": "7d277461-ae95-4ef9-c09d-0e37179f5766"
      },
      "source": [
        "# profits vs others\r\n",
        "X1 = datamul[[\"R&D Spend\",\"Administration\",\"Marketing Spend\",\"State\"]]\r\n",
        "print(X1)\r\n",
        "y1 = datamul[\"Profit\"]\r\n",
        "# printing profits\r\n",
        "print(\"---------------------------profits----------------------------\")\r\n",
        "print(y1)"
      ],
      "execution_count": 62,
      "outputs": [
        {
          "output_type": "stream",
          "text": [
            "    R&D Spend  Administration  Marketing Spend       State\n",
            "0   165349.20       136897.80        471784.10    New York\n",
            "1   162597.70       151377.59        443898.53  California\n",
            "2   153441.51       101145.55        407934.54     Florida\n",
            "3   144372.41       118671.85        383199.62    New York\n",
            "4   142107.34        91391.77        366168.42     Florida\n",
            "5   131876.90        99814.71        362861.36    New York\n",
            "6   134615.46       147198.87        127716.82  California\n",
            "7   130298.13       145530.06        323876.68     Florida\n",
            "8   120542.52       148718.95        311613.29    New York\n",
            "9   123334.88       108679.17        304981.62  California\n",
            "10  101913.08       110594.11        229160.95     Florida\n",
            "11  100671.96        91790.61        249744.55  California\n",
            "12   93863.75       127320.38        249839.44     Florida\n",
            "13   91992.39       135495.07        252664.93  California\n",
            "14  119943.24       156547.42        256512.92     Florida\n",
            "15  114523.61       122616.84        261776.23    New York\n",
            "16   78013.11       121597.55        264346.06  California\n",
            "17   94657.16       145077.58        282574.31    New York\n",
            "18   91749.16       114175.79        294919.57     Florida\n",
            "19   86419.70       153514.11             0.00    New York\n",
            "20   76253.86       113867.30        298664.47  California\n",
            "21   78389.47       153773.43        299737.29    New York\n",
            "22   73994.56       122782.75        303319.26     Florida\n",
            "23   67532.53       105751.03        304768.73     Florida\n",
            "24   77044.01        99281.34        140574.81    New York\n",
            "25   64664.71       139553.16        137962.62  California\n",
            "26   75328.87       144135.98        134050.07     Florida\n",
            "27   72107.60       127864.55        353183.81    New York\n",
            "28   66051.52       182645.56        118148.20     Florida\n",
            "29   65605.48       153032.06        107138.38    New York\n",
            "30   61994.48       115641.28         91131.24     Florida\n",
            "31   61136.38       152701.92         88218.23    New York\n",
            "32   63408.86       129219.61         46085.25  California\n",
            "33   55493.95       103057.49        214634.81     Florida\n",
            "34   46426.07       157693.92        210797.67  California\n",
            "35   46014.02        85047.44        205517.64    New York\n",
            "36   28663.76       127056.21        201126.82     Florida\n",
            "37   44069.95        51283.14        197029.42  California\n",
            "38   20229.59        65947.93        185265.10    New York\n",
            "39   38558.51        82982.09        174999.30  California\n",
            "40   28754.33       118546.05        172795.67  California\n",
            "41   27892.92        84710.77        164470.71     Florida\n",
            "42   23640.93        96189.63        148001.11  California\n",
            "43   15505.73       127382.30         35534.17    New York\n",
            "44   22177.74       154806.14         28334.72  California\n",
            "45    1000.23       124153.04          1903.93    New York\n",
            "46    1315.46       115816.21        297114.46     Florida\n",
            "47       0.00       135426.92             0.00  California\n",
            "48     542.05        51743.15             0.00    New York\n",
            "49       0.00       116983.80         45173.06  California\n",
            "---------------------------profits----------------------------\n",
            "0     192261.83\n",
            "1     191792.06\n",
            "2     191050.39\n",
            "3     182901.99\n",
            "4     166187.94\n",
            "5     156991.12\n",
            "6     156122.51\n",
            "7     155752.60\n",
            "8     152211.77\n",
            "9     149759.96\n",
            "10    146121.95\n",
            "11    144259.40\n",
            "12    141585.52\n",
            "13    134307.35\n",
            "14    132602.65\n",
            "15    129917.04\n",
            "16    126992.93\n",
            "17    125370.37\n",
            "18    124266.90\n",
            "19    122776.86\n",
            "20    118474.03\n",
            "21    111313.02\n",
            "22    110352.25\n",
            "23    108733.99\n",
            "24    108552.04\n",
            "25    107404.34\n",
            "26    105733.54\n",
            "27    105008.31\n",
            "28    103282.38\n",
            "29    101004.64\n",
            "30     99937.59\n",
            "31     97483.56\n",
            "32     97427.84\n",
            "33     96778.92\n",
            "34     96712.80\n",
            "35     96479.51\n",
            "36     90708.19\n",
            "37     89949.14\n",
            "38     81229.06\n",
            "39     81005.76\n",
            "40     78239.91\n",
            "41     77798.83\n",
            "42     71498.49\n",
            "43     69758.98\n",
            "44     65200.33\n",
            "45     64926.08\n",
            "46     49490.75\n",
            "47     42559.73\n",
            "48     35673.41\n",
            "49     14681.40\n",
            "Name: Profit, dtype: float64\n"
          ],
          "name": "stdout"
        }
      ]
    },
    {
      "cell_type": "code",
      "metadata": {
        "colab": {
          "base_uri": "https://localhost:8080/"
        },
        "id": "EQ9hNSdK2xhE",
        "outputId": "16ba7196-f080-421b-95e7-ddd8c8f72e66"
      },
      "source": [
        "type(X1)"
      ],
      "execution_count": 55,
      "outputs": [
        {
          "output_type": "execute_result",
          "data": {
            "text/plain": [
              "pandas.core.frame.DataFrame"
            ]
          },
          "metadata": {
            "tags": []
          },
          "execution_count": 55
        }
      ]
    },
    {
      "cell_type": "markdown",
      "metadata": {
        "id": "p35Kp24t219F"
      },
      "source": [
        "# **Preprocessing**"
      ]
    },
    {
      "cell_type": "code",
      "metadata": {
        "colab": {
          "base_uri": "https://localhost:8080/"
        },
        "id": "GaFLRArb24AC",
        "outputId": "3c5c6107-3ff0-442c-9428-b1008814c86f"
      },
      "source": [
        "# converting the types into machine understandable type\r\n",
        "le = LabelEncoder()\r\n",
        "X1[['State']] = le.fit_transform(datamul.State)\r\n",
        "# printing the name of states rough eg newyork is 1\r\n",
        "print(X1['State'].values)\r\n",
        "# remember not print(X1['State'].values)"
      ],
      "execution_count": 68,
      "outputs": [
        {
          "output_type": "stream",
          "text": [
            "[2 0 1 2 1 2 0 1 2 0 1 0 1 0 1 2 0 2 1 2 0 2 1 1 2 0 1 2 1 2 1 2 0 1 0 2 1\n",
            " 0 2 0 0 1 0 2 0 2 1 0 2 0]\n"
          ],
          "name": "stdout"
        },
        {
          "output_type": "stream",
          "text": [
            "/usr/local/lib/python3.6/dist-packages/ipykernel_launcher.py:3: SettingWithCopyWarning: \n",
            "A value is trying to be set on a copy of a slice from a DataFrame.\n",
            "Try using .loc[row_indexer,col_indexer] = value instead\n",
            "\n",
            "See the caveats in the documentation: https://pandas.pydata.org/pandas-docs/stable/user_guide/indexing.html#returning-a-view-versus-a-copy\n",
            "  This is separate from the ipykernel package so we can avoid doing imports until\n",
            "/usr/local/lib/python3.6/dist-packages/pandas/core/indexing.py:1743: SettingWithCopyWarning: \n",
            "A value is trying to be set on a copy of a slice from a DataFrame.\n",
            "Try using .loc[row_indexer,col_indexer] = value instead\n",
            "\n",
            "See the caveats in the documentation: https://pandas.pydata.org/pandas-docs/stable/user_guide/indexing.html#returning-a-view-versus-a-copy\n",
            "  isetter(ilocs[0], value)\n"
          ],
          "name": "stderr"
        }
      ]
    },
    {
      "cell_type": "code",
      "metadata": {
        "colab": {
          "base_uri": "https://localhost:8080/"
        },
        "id": "1Md1e1xY4bN_",
        "outputId": "ec3d9ab6-8f26-45a4-d942-ff33f83ee1d2"
      },
      "source": [
        "print(X1.values)\r\n",
        "# print(X1['State'].values)"
      ],
      "execution_count": 69,
      "outputs": [
        {
          "output_type": "stream",
          "text": [
            "[[1.6534920e+05 1.3689780e+05 4.7178410e+05 2.0000000e+00]\n",
            " [1.6259770e+05 1.5137759e+05 4.4389853e+05 0.0000000e+00]\n",
            " [1.5344151e+05 1.0114555e+05 4.0793454e+05 1.0000000e+00]\n",
            " [1.4437241e+05 1.1867185e+05 3.8319962e+05 2.0000000e+00]\n",
            " [1.4210734e+05 9.1391770e+04 3.6616842e+05 1.0000000e+00]\n",
            " [1.3187690e+05 9.9814710e+04 3.6286136e+05 2.0000000e+00]\n",
            " [1.3461546e+05 1.4719887e+05 1.2771682e+05 0.0000000e+00]\n",
            " [1.3029813e+05 1.4553006e+05 3.2387668e+05 1.0000000e+00]\n",
            " [1.2054252e+05 1.4871895e+05 3.1161329e+05 2.0000000e+00]\n",
            " [1.2333488e+05 1.0867917e+05 3.0498162e+05 0.0000000e+00]\n",
            " [1.0191308e+05 1.1059411e+05 2.2916095e+05 1.0000000e+00]\n",
            " [1.0067196e+05 9.1790610e+04 2.4974455e+05 0.0000000e+00]\n",
            " [9.3863750e+04 1.2732038e+05 2.4983944e+05 1.0000000e+00]\n",
            " [9.1992390e+04 1.3549507e+05 2.5266493e+05 0.0000000e+00]\n",
            " [1.1994324e+05 1.5654742e+05 2.5651292e+05 1.0000000e+00]\n",
            " [1.1452361e+05 1.2261684e+05 2.6177623e+05 2.0000000e+00]\n",
            " [7.8013110e+04 1.2159755e+05 2.6434606e+05 0.0000000e+00]\n",
            " [9.4657160e+04 1.4507758e+05 2.8257431e+05 2.0000000e+00]\n",
            " [9.1749160e+04 1.1417579e+05 2.9491957e+05 1.0000000e+00]\n",
            " [8.6419700e+04 1.5351411e+05 0.0000000e+00 2.0000000e+00]\n",
            " [7.6253860e+04 1.1386730e+05 2.9866447e+05 0.0000000e+00]\n",
            " [7.8389470e+04 1.5377343e+05 2.9973729e+05 2.0000000e+00]\n",
            " [7.3994560e+04 1.2278275e+05 3.0331926e+05 1.0000000e+00]\n",
            " [6.7532530e+04 1.0575103e+05 3.0476873e+05 1.0000000e+00]\n",
            " [7.7044010e+04 9.9281340e+04 1.4057481e+05 2.0000000e+00]\n",
            " [6.4664710e+04 1.3955316e+05 1.3796262e+05 0.0000000e+00]\n",
            " [7.5328870e+04 1.4413598e+05 1.3405007e+05 1.0000000e+00]\n",
            " [7.2107600e+04 1.2786455e+05 3.5318381e+05 2.0000000e+00]\n",
            " [6.6051520e+04 1.8264556e+05 1.1814820e+05 1.0000000e+00]\n",
            " [6.5605480e+04 1.5303206e+05 1.0713838e+05 2.0000000e+00]\n",
            " [6.1994480e+04 1.1564128e+05 9.1131240e+04 1.0000000e+00]\n",
            " [6.1136380e+04 1.5270192e+05 8.8218230e+04 2.0000000e+00]\n",
            " [6.3408860e+04 1.2921961e+05 4.6085250e+04 0.0000000e+00]\n",
            " [5.5493950e+04 1.0305749e+05 2.1463481e+05 1.0000000e+00]\n",
            " [4.6426070e+04 1.5769392e+05 2.1079767e+05 0.0000000e+00]\n",
            " [4.6014020e+04 8.5047440e+04 2.0551764e+05 2.0000000e+00]\n",
            " [2.8663760e+04 1.2705621e+05 2.0112682e+05 1.0000000e+00]\n",
            " [4.4069950e+04 5.1283140e+04 1.9702942e+05 0.0000000e+00]\n",
            " [2.0229590e+04 6.5947930e+04 1.8526510e+05 2.0000000e+00]\n",
            " [3.8558510e+04 8.2982090e+04 1.7499930e+05 0.0000000e+00]\n",
            " [2.8754330e+04 1.1854605e+05 1.7279567e+05 0.0000000e+00]\n",
            " [2.7892920e+04 8.4710770e+04 1.6447071e+05 1.0000000e+00]\n",
            " [2.3640930e+04 9.6189630e+04 1.4800111e+05 0.0000000e+00]\n",
            " [1.5505730e+04 1.2738230e+05 3.5534170e+04 2.0000000e+00]\n",
            " [2.2177740e+04 1.5480614e+05 2.8334720e+04 0.0000000e+00]\n",
            " [1.0002300e+03 1.2415304e+05 1.9039300e+03 2.0000000e+00]\n",
            " [1.3154600e+03 1.1581621e+05 2.9711446e+05 1.0000000e+00]\n",
            " [0.0000000e+00 1.3542692e+05 0.0000000e+00 0.0000000e+00]\n",
            " [5.4205000e+02 5.1743150e+04 0.0000000e+00 2.0000000e+00]\n",
            " [0.0000000e+00 1.1698380e+05 4.5173060e+04 0.0000000e+00]]\n"
          ],
          "name": "stdout"
        }
      ]
    },
    {
      "cell_type": "markdown",
      "metadata": {
        "id": "-G1ILmA251O4"
      },
      "source": [
        "## **New**"
      ]
    },
    {
      "cell_type": "code",
      "metadata": {
        "id": "M_dvhV8S50qp"
      },
      "source": [
        "from sklearn.model_selection import train_test_split\r\n",
        "X_train, X_test, y_train, y_test = train_test_split(X1,y1, test_size=0.2, random_state=1)"
      ],
      "execution_count": 86,
      "outputs": []
    },
    {
      "cell_type": "code",
      "metadata": {
        "colab": {
          "base_uri": "https://localhost:8080/"
        },
        "id": "sE2VXxLZ55FE",
        "outputId": "cda143c6-01f3-4735-f33b-27cfcdf38593"
      },
      "source": [
        "model = LinearRegression()\r\n",
        "model.fit(X_train,y_train)"
      ],
      "execution_count": 87,
      "outputs": [
        {
          "output_type": "execute_result",
          "data": {
            "text/plain": [
              "LinearRegression(copy_X=True, fit_intercept=True, n_jobs=None, normalize=False)"
            ]
          },
          "metadata": {
            "tags": []
          },
          "execution_count": 87
        }
      ]
    },
    {
      "cell_type": "code",
      "metadata": {
        "id": "VOqrHH6u6Y1_"
      },
      "source": [
        "y_pred = model.predict(X_test)"
      ],
      "execution_count": 88,
      "outputs": []
    },
    {
      "cell_type": "code",
      "metadata": {
        "colab": {
          "base_uri": "https://localhost:8080/"
        },
        "id": "h1UpDZF_6crz",
        "outputId": "b6bc97d6-d8ac-428d-b28a-e8621852b4af"
      },
      "source": [
        "print(y_pred.sum().mean())\r\n",
        "print(y_test.sum().mean())"
      ],
      "execution_count": 89,
      "outputs": [
        {
          "output_type": "stream",
          "text": [
            "1012608.0917095677\n",
            "1018561.53\n"
          ],
          "name": "stdout"
        }
      ]
    },
    {
      "cell_type": "markdown",
      "metadata": {
        "id": "KTDqEpI46ieR"
      },
      "source": [
        "## **Accuracy**"
      ]
    },
    {
      "cell_type": "code",
      "metadata": {
        "colab": {
          "base_uri": "https://localhost:8080/"
        },
        "id": "dIywYYcR6lbZ",
        "outputId": "d300cadd-3c9a-4d57-dfc4-9f1b23030d68"
      },
      "source": [
        "print(\" Accuracy \", y_pred.sum().mean()/y_test.sum().mean())"
      ],
      "execution_count": 90,
      "outputs": [
        {
          "output_type": "stream",
          "text": [
            " Accuracy  0.9941550528710501\n"
          ],
          "name": "stdout"
        }
      ]
    },
    {
      "cell_type": "markdown",
      "metadata": {
        "id": "YI5FFNed-Si0"
      },
      "source": [
        "##  NEW (Polynomial **Regression**) \r\n",
        "\r\n",
        "---\r\n",
        "\r\n"
      ]
    },
    {
      "cell_type": "code",
      "metadata": {
        "colab": {
          "base_uri": "https://localhost:8080/",
          "height": 195
        },
        "id": "bgjQVHR5-VZA",
        "outputId": "21a78874-3fab-43fc-8c1d-6cc5ceb9232f"
      },
      "source": [
        "datas = pd.read_csv('/content/drive/MyDrive/data sheet/Drugs_Performance.csv')\r\n",
        "datas.head()"
      ],
      "execution_count": 92,
      "outputs": [
        {
          "output_type": "execute_result",
          "data": {
            "text/html": [
              "<div>\n",
              "<style scoped>\n",
              "    .dataframe tbody tr th:only-of-type {\n",
              "        vertical-align: middle;\n",
              "    }\n",
              "\n",
              "    .dataframe tbody tr th {\n",
              "        vertical-align: top;\n",
              "    }\n",
              "\n",
              "    .dataframe thead th {\n",
              "        text-align: right;\n",
              "    }\n",
              "</style>\n",
              "<table border=\"1\" class=\"dataframe\">\n",
              "  <thead>\n",
              "    <tr style=\"text-align: right;\">\n",
              "      <th></th>\n",
              "      <th>Age</th>\n",
              "      <th>Drugs_Perf</th>\n",
              "    </tr>\n",
              "  </thead>\n",
              "  <tbody>\n",
              "    <tr>\n",
              "      <th>0</th>\n",
              "      <td>1</td>\n",
              "      <td>1.166667</td>\n",
              "    </tr>\n",
              "    <tr>\n",
              "      <th>1</th>\n",
              "      <td>2</td>\n",
              "      <td>1.833333</td>\n",
              "    </tr>\n",
              "    <tr>\n",
              "      <th>2</th>\n",
              "      <td>3</td>\n",
              "      <td>2.833333</td>\n",
              "    </tr>\n",
              "    <tr>\n",
              "      <th>3</th>\n",
              "      <td>4</td>\n",
              "      <td>4.166667</td>\n",
              "    </tr>\n",
              "    <tr>\n",
              "      <th>4</th>\n",
              "      <td>5</td>\n",
              "      <td>5.833333</td>\n",
              "    </tr>\n",
              "  </tbody>\n",
              "</table>\n",
              "</div>"
            ],
            "text/plain": [
              "   Age  Drugs_Perf\n",
              "0    1    1.166667\n",
              "1    2    1.833333\n",
              "2    3    2.833333\n",
              "3    4    4.166667\n",
              "4    5    5.833333"
            ]
          },
          "metadata": {
            "tags": []
          },
          "execution_count": 92
        }
      ]
    },
    {
      "cell_type": "code",
      "metadata": {
        "id": "fWWkLH1r-l2-"
      },
      "source": [
        "X = datas['Age'].values\r\n",
        "Y = datas['Drugs_Perf'].values"
      ],
      "execution_count": 94,
      "outputs": []
    },
    {
      "cell_type": "code",
      "metadata": {
        "colab": {
          "base_uri": "https://localhost:8080/"
        },
        "id": "2me9DnYi-ypx",
        "outputId": "c311702c-3052-4bb7-e607-79fa6867e683"
      },
      "source": [
        "X"
      ],
      "execution_count": 96,
      "outputs": [
        {
          "output_type": "execute_result",
          "data": {
            "text/plain": [
              "array([ 1,  2,  3,  4,  5,  6,  7,  8,  9, 10, 11, 12, 13, 14, 15, 16, 17,\n",
              "       18, 19, 20, 21, 22, 23, 24, 25, 26, 27, 28, 29, 30, 31, 32, 33, 34,\n",
              "       35, 36, 37, 38, 39, 40, 41, 42, 43, 44, 45, 46, 47, 48, 49, 50, 51,\n",
              "       52, 53, 54, 55, 56, 57, 58, 59, 60, 61, 62, 63, 64, 65, 66, 67, 68,\n",
              "       69, 70, 71, 72, 73, 74, 75, 76, 77, 78, 79, 80, 81, 82, 83, 84])"
            ]
          },
          "metadata": {
            "tags": []
          },
          "execution_count": 96
        }
      ]
    },
    {
      "cell_type": "code",
      "metadata": {
        "colab": {
          "base_uri": "https://localhost:8080/"
        },
        "id": "7ii2N52J-17J",
        "outputId": "33111222-cd64-424b-8d5e-fb60b8b42454"
      },
      "source": [
        "X.shape\r\n"
      ],
      "execution_count": 98,
      "outputs": [
        {
          "output_type": "execute_result",
          "data": {
            "text/plain": [
              "(84,)"
            ]
          },
          "metadata": {
            "tags": []
          },
          "execution_count": 98
        }
      ]
    },
    {
      "cell_type": "code",
      "metadata": {
        "colab": {
          "base_uri": "https://localhost:8080/"
        },
        "id": "GxpGj9R2-4iW",
        "outputId": "71eefee7-f292-4ca8-991f-ca574ab4c622"
      },
      "source": [
        "type(X)"
      ],
      "execution_count": 100,
      "outputs": [
        {
          "output_type": "execute_result",
          "data": {
            "text/plain": [
              "numpy.ndarray"
            ]
          },
          "metadata": {
            "tags": []
          },
          "execution_count": 100
        }
      ]
    },
    {
      "cell_type": "code",
      "metadata": {
        "colab": {
          "base_uri": "https://localhost:8080/",
          "height": 265
        },
        "id": "DWo6oa9x-65A",
        "outputId": "462b0be0-fdc5-4139-dae8-2f808298b62f"
      },
      "source": [
        "plt.scatter(X,Y)\r\n",
        "plt.show()"
      ],
      "execution_count": 102,
      "outputs": [
        {
          "output_type": "display_data",
          "data": {
            "image/png": "[encoded data removed]",
            "text/plain": [
              "<Figure size 432x288 with 1 Axes>"
            ]
          },
          "metadata": {
            "tags": [],
            "needs_background": "light"
          }
        }
      ]
    },
    {
      "cell_type": "code",
      "metadata": {
        "id": "C9zzJNY-_Dsz"
      },
      "source": [
        "X = np.array(X).reshape(-1,1)\r\n",
        "Y = np.array(Y).reshape(-1,1)"
      ],
      "execution_count": 104,
      "outputs": []
    },
    {
      "cell_type": "code",
      "metadata": {
        "colab": {
          "base_uri": "https://localhost:8080/",
          "height": 265
        },
        "id": "f8wdpLij_NKU",
        "outputId": "608a3ad5-57ea-4215-f886-516ae304a74e"
      },
      "source": [
        "plt.scatter(X,Y)\r\n",
        "plt.show()"
      ],
      "execution_count": 106,
      "outputs": [
        {
          "output_type": "display_data",
          "data": {
            "image/png": "[encoded data removed]",
            "text/plain": [
              "<Figure size 432x288 with 1 Axes>"
            ]
          },
          "metadata": {
            "tags": [],
            "needs_background": "light"
          }
        }
      ]
    },
    {
      "cell_type": "code",
      "metadata": {
        "id": "M4g4eUum_gOo"
      },
      "source": [
        "from sklearn.preprocessing import PolynomialFeatures\r\n",
        "from sklearn.model_selection import train_test_split"
      ],
      "execution_count": 112,
      "outputs": []
    },
    {
      "cell_type": "code",
      "metadata": {
        "id": "Xp05ql0Q_o24"
      },
      "source": [
        "# test_zie=0.2 is 20% for test and 80 for training\r\n",
        "X_train,X_test,Y_train,Y_test = train_test_split(X,Y, test_size=0.2) #random_state=1 not done"
      ],
      "execution_count": 114,
      "outputs": []
    },
    {
      "cell_type": "code",
      "metadata": {
        "colab": {
          "base_uri": "https://localhost:8080/"
        },
        "id": "HG27VllnALcX",
        "outputId": "8ba0ca8d-494a-4c80-bda8-db4834fc4e6d"
      },
      "source": [
        "# making degree of polynomial 2 because the scatter plot in 106 up+2 resembles polynomial 2 degree curve\r\n",
        "poly = PolynomialFeatures(degree=2)\r\n",
        "X_poly = poly.fit_transform(X_train)\r\n",
        "poly.fit(X_poly,Y_train)"
      ],
      "execution_count": 116,
      "outputs": [
        {
          "output_type": "execute_result",
          "data": {
            "text/plain": [
              "PolynomialFeatures(degree=2, include_bias=True, interaction_only=False,\n",
              "                   order='C')"
            ]
          },
          "metadata": {
            "tags": []
          },
          "execution_count": 116
        }
      ]
    },
    {
      "cell_type": "code",
      "metadata": {
        "colab": {
          "base_uri": "https://localhost:8080/"
        },
        "id": "wg37KS__AiWH",
        "outputId": "749777d6-5401-4a8f-b727-891592b63114"
      },
      "source": [
        "model = LinearRegression()\r\n",
        "model.fit(X_poly,Y_train)\r\n",
        "# here we have included X_poly so in model.predict() also use x_poly"
      ],
      "execution_count": 118,
      "outputs": [
        {
          "output_type": "execute_result",
          "data": {
            "text/plain": [
              "LinearRegression(copy_X=True, fit_intercept=True, n_jobs=None, normalize=False)"
            ]
          },
          "metadata": {
            "tags": []
          },
          "execution_count": 118
        }
      ]
    },
    {
      "cell_type": "code",
      "metadata": {
        "colab": {
          "base_uri": "https://localhost:8080/",
          "height": 312
        },
        "id": "X7h-c_yxAyab",
        "outputId": "a914db31-6d55-426d-fafa-61d50947d206"
      },
      "source": [
        "plt.scatter(X,Y, color = 'yellow')\r\n",
        "# predicting value of y on the basis of value of x*(and as we model.fit(--x_poly==,..)) so use x_poly and that is poly.fit_transform(x)\r\n",
        "plt.plot(X,model.predict(poly.fit_transform(X)), color = 'brown')\r\n",
        "plt.title('Polynomial Regression')\r\n",
        "plt.xlabel('Age')\r\n",
        "plt.ylabel('Drugs Performance')"
      ],
      "execution_count": 124,
      "outputs": [
        {
          "output_type": "execute_result",
          "data": {
            "text/plain": [
              "Text(0, 0.5, 'Drugs Performance')"
            ]
          },
          "metadata": {
            "tags": []
          },
          "execution_count": 124
        },
        {
          "output_type": "display_data",
          "data": {
            "image/png": "[encoded data removed]",
            "text/plain": [
              "<Figure size 432x288 with 1 Axes>"
            ]
          },
          "metadata": {
            "tags": [],
            "needs_background": "light"
          }
        }
      ]
    }
  ]
}